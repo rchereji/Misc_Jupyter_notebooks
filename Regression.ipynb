{
 "cells": [
  {
   "cell_type": "markdown",
   "metadata": {},
   "source": [
    "# Regression"
   ]
  },
  {
   "cell_type": "code",
   "execution_count": 1,
   "metadata": {},
   "outputs": [],
   "source": [
    "# Generate some noisy data\n",
    "\n",
    "import numpy as np\n",
    "\n",
    "# 100 random numbers from a uniform distribution X ~ U([0, 2])\n",
    "X = 2 * np.random.rand(100, 1) \n",
    "y = 4 + 3 * X + np.random.randn(100, 1) # y = 3x + 4 + noise(~N(0,1))"
   ]
  },
  {
   "cell_type": "code",
   "execution_count": 2,
   "metadata": {},
   "outputs": [],
   "source": [
    "import matplotlib.pyplot as plt\n",
    "plt.plot(X, y, 'bo')\n",
    "plt.xlabel('x')\n",
    "plt.ylabel('y');"
   ]
  },
  {
   "cell_type": "markdown",
   "metadata": {},
   "source": [
    "### Linear regression using Scikit-Learn"
   ]
  },
  {
   "cell_type": "code",
   "execution_count": 3,
   "metadata": {},
   "outputs": [
    {
     "data": {
      "text/plain": [
       "LinearRegression(copy_X=True, fit_intercept=True, n_jobs=None,\n",
       "         normalize=False)"
      ]
     },
     "execution_count": 3,
     "metadata": {},
     "output_type": "execute_result"
    }
   ],
   "source": [
    "# Load the LinearRegression class\n",
    "from sklearn.linear_model import LinearRegression\n",
    "\n",
    "# Instantiate a model\n",
    "model = LinearRegression()\n",
    "\n",
    "# Fit the model\n",
    "model.fit(X,y)"
   ]
  },
  {
   "cell_type": "code",
   "execution_count": 4,
   "metadata": {},
   "outputs": [
    {
     "name": "stdout",
     "output_type": "stream",
     "text": [
      "Fitted slope: [[3.05994889]]\n",
      "Fitted intercept: [3.91455526]\n"
     ]
    }
   ],
   "source": [
    "# Get the fitted parameters\n",
    "print('Fitted slope: {}'.format(model.coef_))\n",
    "print('Fitted intercept: {}'.format(model.intercept_))"
   ]
  },
  {
   "cell_type": "code",
   "execution_count": 5,
   "metadata": {},
   "outputs": [
    {
     "data": {
      "image/png": "[encoded data removed]",
      "text/plain": [
       "<Figure size 432x288 with 1 Axes>"
      ]
     },
     "metadata": {
      "needs_background": "light"
     },
     "output_type": "display_data"
    }
   ],
   "source": [
    "# Plot the regression line\n",
    "minX,maxX = min(X),max(X)\n",
    "\n",
    "X_test = [minX, maxX]\n",
    "y_pred = model.predict(X_test)\n",
    "\n",
    "plt.plot(X, y, 'bo')\n",
    "plt.xlabel('x')\n",
    "plt.ylabel('y')\n",
    "plt.plot(X_test, y_pred, 'r-');"
   ]
  },
  {
   "cell_type": "markdown",
   "metadata": {},
   "source": [
    "### Linear regression using statsmodels\n",
    "To get more information about the fit, as different statistics, R-squared, confidence intervals, etc., we can use the statsmodels library."
   ]
  },
  {
   "cell_type": "code",
   "execution_count": 6,
   "metadata": {},
   "outputs": [
    {
     "data": {
      "text/html": [
       "<table class=\"simpletable\">\n",
       "<caption>OLS Regression Results</caption>\n",
       "<tr>\n",
       "  <th>Dep. Variable:</th>            <td>y</td>        <th>  R-squared:         </th> <td>   0.782</td>\n",
       "</tr>\n",
       "<tr>\n",
       "  <th>Model:</th>                   <td>OLS</td>       <th>  Adj. R-squared:    </th> <td>   0.780</td>\n",
       "</tr>\n",
       "<tr>\n",
       "  <th>Method:</th>             <td>Least Squares</td>  <th>  F-statistic:       </th> <td>   352.3</td>\n",
       "</tr>\n",
       "<tr>\n",
       "  <th>Date:</th>             <td>Tue, 10 Sep 2019</td> <th>  Prob (F-statistic):</th> <td>3.19e-34</td>\n",
       "</tr>\n",
       "<tr>\n",
       "  <th>Time:</th>                 <td>13:59:36</td>     <th>  Log-Likelihood:    </th> <td> -139.05</td>\n",
       "</tr>\n",
       "<tr>\n",
       "  <th>No. Observations:</th>      <td>   100</td>      <th>  AIC:               </th> <td>   282.1</td>\n",
       "</tr>\n",
       "<tr>\n",
       "  <th>Df Residuals:</th>          <td>    98</td>      <th>  BIC:               </th> <td>   287.3</td>\n",
       "</tr>\n",
       "<tr>\n",
       "  <th>Df Model:</th>              <td>     1</td>      <th>                     </th>     <td> </td>   \n",
       "</tr>\n",
       "<tr>\n",
       "  <th>Covariance Type:</th>      <td>nonrobust</td>    <th>                     </th>     <td> </td>   \n",
       "</tr>\n",
       "</table>\n",
       "<table class=\"simpletable\">\n",
       "<tr>\n",
       "    <td></td>       <th>coef</th>     <th>std err</th>      <th>t</th>      <th>P>|t|</th>  <th>[0.025</th>    <th>0.975]</th>  \n",
       "</tr>\n",
       "<tr>\n",
       "  <th>const</th> <td>    3.9146</td> <td>    0.194</td> <td>   20.225</td> <td> 0.000</td> <td>    3.530</td> <td>    4.299</td>\n",
       "</tr>\n",
       "<tr>\n",
       "  <th>x1</th>    <td>    3.0599</td> <td>    0.163</td> <td>   18.771</td> <td> 0.000</td> <td>    2.736</td> <td>    3.383</td>\n",
       "</tr>\n",
       "</table>\n",
       "<table class=\"simpletable\">\n",
       "<tr>\n",
       "  <th>Omnibus:</th>       <td> 0.150</td> <th>  Durbin-Watson:     </th> <td>   1.826</td>\n",
       "</tr>\n",
       "<tr>\n",
       "  <th>Prob(Omnibus):</th> <td> 0.928</td> <th>  Jarque-Bera (JB):  </th> <td>   0.334</td>\n",
       "</tr>\n",
       "<tr>\n",
       "  <th>Skew:</th>          <td>-0.002</td> <th>  Prob(JB):          </th> <td>   0.846</td>\n",
       "</tr>\n",
       "<tr>\n",
       "  <th>Kurtosis:</th>      <td> 2.717</td> <th>  Cond. No.          </th> <td>    3.73</td>\n",
       "</tr>\n",
       "</table><br/><br/>Warnings:<br/>[1] Standard Errors assume that the covariance matrix of the errors is correctly specified."
      ],
      "text/plain": [
       "<class 'statsmodels.iolib.summary.Summary'>\n",
       "\"\"\"\n",
       "                            OLS Regression Results                            \n",
       "==============================================================================\n",
       "Dep. Variable:                      y   R-squared:                       0.782\n",
       "Model:                            OLS   Adj. R-squared:                  0.780\n",
       "Method:                 Least Squares   F-statistic:                     352.3\n",
       "Date:                Tue, 10 Sep 2019   Prob (F-statistic):           3.19e-34\n",
       "Time:                        13:59:36   Log-Likelihood:                -139.05\n",
       "No. Observations:                 100   AIC:                             282.1\n",
       "Df Residuals:                      98   BIC:                             287.3\n",
       "Df Model:                           1                                         \n",
       "Covariance Type:            nonrobust                                         \n",
       "==============================================================================\n",
       "                 coef    std err          t      P>|t|      [0.025      0.975]\n",
       "------------------------------------------------------------------------------\n",
       "const          3.9146      0.194     20.225      0.000       3.530       4.299\n",
       "x1             3.0599      0.163     18.771      0.000       2.736       3.383\n",
       "==============================================================================\n",
       "Omnibus:                        0.150   Durbin-Watson:                   1.826\n",
       "Prob(Omnibus):                  0.928   Jarque-Bera (JB):                0.334\n",
       "Skew:                          -0.002   Prob(JB):                        0.846\n",
       "Kurtosis:                       2.717   Cond. No.                         3.73\n",
       "==============================================================================\n",
       "\n",
       "Warnings:\n",
       "[1] Standard Errors assume that the covariance matrix of the errors is correctly specified.\n",
       "\"\"\""
      ]
     },
     "execution_count": 6,
     "metadata": {},
     "output_type": "execute_result"
    }
   ],
   "source": [
    "import statsmodels.api as sm\n",
    "\n",
    "# Prepare the features vector (add 1s on a separate column)\n",
    "X = sm.add_constant(X)\n",
    "\n",
    "# Instantiate the model\n",
    "model = sm.OLS(y, X)   # Note that OLS requires the dependent variable before the features\n",
    "\n",
    "# Fit the model\n",
    "model = model.fit()\n",
    "\n",
    "# Print the summary of the fit\n",
    "model.summary()"
   ]
  },
  {
   "cell_type": "code",
   "execution_count": 7,
   "metadata": {},
   "outputs": [
    {
     "data": {
      "text/plain": [
       "array([3.91455526, 3.05994889])"
      ]
     },
     "execution_count": 7,
     "metadata": {},
     "output_type": "execute_result"
    }
   ],
   "source": [
    "# Print just the fitted parameters\n",
    "model.params"
   ]
  },
  {
   "cell_type": "markdown",
   "metadata": {},
   "source": [
    "We obtained again that the best fit line is $y\\approx 3x+4$."
   ]
  },
  {
   "cell_type": "markdown",
   "metadata": {},
   "source": [
    "### Regularized linear models\n",
    "To reduce overfitting, we can use regularized linear models, where instead of minimizing the mean squared error cost function, we minimize a regularized cost function. Examples of regularized regression models available in scikit-learn are: ridge regression, lasso regression, elastic net."
   ]
  },
  {
   "cell_type": "code",
   "execution_count": 8,
   "metadata": {},
   "outputs": [],
   "source": [
    "# Get rid of the constant column\n",
    "X = X[:,[1]]"
   ]
  },
  {
   "cell_type": "code",
   "execution_count": 9,
   "metadata": {},
   "outputs": [],
   "source": [
    "model_label = ['Ridge regression', 'Lasso regression', 'Elastic Net']\n",
    "from sklearn.linear_model import Ridge, Lasso, ElasticNet\n",
    "\n",
    "# Instantiate the models\n",
    "reg_models = [Ridge(),\n",
    "              Lasso(alpha=0.1),\n",
    "              ElasticNet(alpha=0.1, l1_ratio=0.5)]\n",
    "\n",
    "# Fit the models\n",
    "for i in range(3):\n",
    "    reg_models[i].fit(X,y)"
   ]
  },
  {
   "cell_type": "code",
   "execution_count": 10,
   "metadata": {},
   "outputs": [
    {
     "name": "stdout",
     "output_type": "stream",
     "text": [
      "Ridge regression\n",
      "Fitted slope: [[2.97785213]]\n",
      "Fitted intercept: [3.99855787]\n",
      " \n",
      "Lasso regression\n",
      "Fitted slope: [2.78425771]\n",
      "Fitted intercept: [4.19664653]\n",
      " \n",
      "Elastic Net\n",
      "Fitted slope: [2.56810179]\n",
      "Fitted intercept: [4.41782044]\n",
      " \n"
     ]
    },
    {
     "data": {
      "image/png": "[encoded data removed]",
      "text/plain": [
       "<Figure size 432x288 with 1 Axes>"
      ]
     },
     "metadata": {
      "needs_background": "light"
     },
     "output_type": "display_data"
    }
   ],
   "source": [
    "# Check the results\n",
    "for i in range(3):\n",
    "    print(model_label[i])\n",
    "    print('Fitted slope: {}'.format(reg_models[i].coef_))\n",
    "    print('Fitted intercept: {}'.format(reg_models[i].intercept_))\n",
    "    print(' ')\n",
    "    \n",
    "# Plot the regression lines\n",
    "minX,maxX = min(X),max(X)\n",
    "\n",
    "X_test = [minX, maxX]\n",
    "y_pred_Ridge = reg_models[0].predict(X_test)\n",
    "y_pred_Lasso = reg_models[1].predict(X_test)\n",
    "y_pred_ElasticNet = reg_models[2].predict(X_test)\n",
    "\n",
    "plt.plot(X, y, 'bo')\n",
    "plt.xlabel('x')\n",
    "plt.ylabel('y')\n",
    "plt.plot(X_test, y_pred_Ridge, 'r-', label=model_label[0])\n",
    "plt.plot(X_test, y_pred_Lasso, 'g-', label=model_label[1])\n",
    "plt.plot(X_test, y_pred_ElasticNet, 'b-', label=model_label[2])\n",
    "plt.legend();"
   ]
  },
  {
   "cell_type": "markdown",
   "metadata": {},
   "source": [
    "### Polynomial regression"
   ]
  },
  {
   "cell_type": "code",
   "execution_count": 11,
   "metadata": {},
   "outputs": [
    {
     "data": {
      "image/png": "[encoded data removed]",
      "text/plain": [
       "<Figure size 432x288 with 1 Axes>"
      ]
     },
     "metadata": {
      "needs_background": "light"
     },
     "output_type": "display_data"
    }
   ],
   "source": [
    "# Generate some data\n",
    "X = 10 * np.random.rand(100,1) - 5\n",
    "y = 0.5 * X**2 + 0.3 * X + np.random.randn(100,1)\n",
    "\n",
    "plt.plot(X, y, 'bo')\n",
    "plt.xlabel('x')\n",
    "plt.ylabel('y');"
   ]
  },
  {
   "cell_type": "code",
   "execution_count": 12,
   "metadata": {},
   "outputs": [],
   "source": [
    "# Fit a polynomial model\n",
    "\n",
    "# Construct the X**2 feature from the original feature X\n",
    "from sklearn.preprocessing import PolynomialFeatures\n",
    "poly_features = PolynomialFeatures(degree=2, include_bias=False)\n",
    "X_poly = poly_features.fit_transform(X)\n",
    "\n",
    "# Fit a linear model using features X and X**2\n",
    "model = LinearRegression().fit(X_poly, y)"
   ]
  },
  {
   "cell_type": "code",
   "execution_count": 13,
   "metadata": {},
   "outputs": [
    {
     "data": {
      "image/png": "[encoded data removed]",
      "text/plain": [
       "<Figure size 432x288 with 1 Axes>"
      ]
     },
     "metadata": {
      "needs_background": "light"
     },
     "output_type": "display_data"
    }
   ],
   "source": [
    "# Check the fit\n",
    "# Sort the features by X value\n",
    "X_test = X_poly[X_poly[:,0].argsort()]\n",
    "y_pred = model.predict(X_test)\n",
    "\n",
    "plt.plot(X, y, 'bo')\n",
    "plt.xlabel('x')\n",
    "plt.ylabel('y')\n",
    "plt.plot(X_test[:,0], y_pred, 'r-');"
   ]
  },
  {
   "cell_type": "code",
   "execution_count": 14,
   "metadata": {},
   "outputs": [
    {
     "name": "stdout",
     "output_type": "stream",
     "text": [
      "Feature coefficients: [[0.2250834 0.5122496]]\n",
      "Intercept: [-0.04764254]\n"
     ]
    }
   ],
   "source": [
    "# Print the fitted parameters\n",
    "print('Feature coefficients: {}'.format(model.coef_))\n",
    "print('Intercept: {}'.format(model.intercept_))"
   ]
  },
  {
   "cell_type": "markdown",
   "metadata": {},
   "source": [
    "We obtained the best fit line $y\\approx -0.07 + 0.32 x + 0.49 x^2$."
   ]
  },
  {
   "cell_type": "code",
   "execution_count": null,
   "metadata": {},
   "outputs": [],
   "source": []
  }
 ],
 "metadata": {
  "kernelspec": {
   "display_name": "Python 3",
   "language": "python",
   "name": "python3"
  },
  "language_info": {
   "codemirror_mode": {
    "name": "ipython",
    "version": 3
   },
   "file_extension": ".py",
   "mimetype": "text/x-python",
   "name": "python",
   "nbconvert_exporter": "python",
   "pygments_lexer": "ipython3",
   "version": "3.7.3"
  }
 },
 "nbformat": 4,
 "nbformat_minor": 2
}
