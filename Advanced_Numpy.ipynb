{
 "cells": [
  {
   "cell_type": "markdown",
   "metadata": {},
   "source": [
    "# Advanced Numpy"
   ]
  },
  {
   "cell_type": "code",
   "execution_count": 1,
   "metadata": {},
   "outputs": [
    {
     "data": {
      "text/plain": [
       "array([0, 1, 2, 3, 4, 5, 6, 7])"
      ]
     },
     "execution_count": 1,
     "metadata": {},
     "output_type": "execute_result"
    }
   ],
   "source": [
    "# Import the library\n",
    "import numpy as np\n",
    "\n",
    "# Create an array\n",
    "a = np.array(range(8))\n",
    "a"
   ]
  },
  {
   "cell_type": "code",
   "execution_count": 2,
   "metadata": {},
   "outputs": [
    {
     "data": {
      "text/plain": [
       "dtype('int64')"
      ]
     },
     "execution_count": 2,
     "metadata": {},
     "output_type": "execute_result"
    }
   ],
   "source": [
    "# What is the default data type of this array\n",
    "a.dtype"
   ]
  },
  {
   "cell_type": "markdown",
   "metadata": {},
   "source": [
    "So each element is stored in the memory on 32 bits (=4 bytes). What other attributes are associated with an numpy array?"
   ]
  },
  {
   "cell_type": "code",
   "execution_count": 3,
   "metadata": {},
   "outputs": [],
   "source": [
    "# Define a function to print useful info about the numpy array\n",
    "def print_attributes(x):\n",
    "    print('Array: ')\n",
    "    print(x, '\\n')\n",
    "    print('Number of elements: ', x.size)\n",
    "    print('Number of dimensions: ', x.ndim)\n",
    "    print('Shape: ', x.shape)\n",
    "    print('Data type:', x.dtype)\n",
    "    print('Strides: ', x.strides)\n",
    "    print('Flags:')\n",
    "    print(x.flags)"
   ]
  },
  {
   "cell_type": "code",
   "execution_count": 4,
   "metadata": {},
   "outputs": [
    {
     "name": "stdout",
     "output_type": "stream",
     "text": [
      "Array: \n",
      "[0 1 2 3 4 5 6 7] \n",
      "\n",
      "Number of elements:  8\n",
      "Number of dimensions:  1\n",
      "Shape:  (8,)\n",
      "Data type: int64\n",
      "Strides:  (8,)\n",
      "Flags:\n",
      "  C_CONTIGUOUS : True\n",
      "  F_CONTIGUOUS : True\n",
      "  OWNDATA : True\n",
      "  WRITEABLE : True\n",
      "  ALIGNED : True\n",
      "  WRITEBACKIFCOPY : False\n",
      "  UPDATEIFCOPY : False\n"
     ]
    }
   ],
   "source": [
    "print_attributes(a)"
   ]
  },
  {
   "cell_type": "markdown",
   "metadata": {},
   "source": [
    "So, we see that our array contains 8 element, each of type int32, stored on 32 bits (4 bytes). The strides values represent the number of bytes that separates neighboring elements along the different dimensions. In our case, we have a one dimensional array, and the memory addresses of neighboring elements are separated by 4 bytes (stride).  \n",
    "\n",
    "Among the flags, the most important ones are:  \n",
    "C_CONTIGUOUS - says whether the data is in a single C-style (column-first) contiguous segment.  \n",
    "F_CONTIGUOUS - says whether the data is in a single, Fortran-style (row-first) contiguous segment.  \n",
    "OWNDATA - says whether the array owns the memory it uses or borrows it from another object."
   ]
  },
  {
   "cell_type": "code",
   "execution_count": 5,
   "metadata": {},
   "outputs": [
    {
     "name": "stdout",
     "output_type": "stream",
     "text": [
      "Array: \n",
      "[[0 1 2 3]\n",
      " [4 5 6 7]] \n",
      "\n",
      "Number of elements:  8\n",
      "Number of dimensions:  2\n",
      "Shape:  (2, 4)\n",
      "Data type: int64\n",
      "Strides:  (32, 8)\n",
      "Flags:\n",
      "  C_CONTIGUOUS : True\n",
      "  F_CONTIGUOUS : False\n",
      "  OWNDATA : False\n",
      "  WRITEABLE : True\n",
      "  ALIGNED : True\n",
      "  WRITEBACKIFCOPY : False\n",
      "  UPDATEIFCOPY : False\n"
     ]
    }
   ],
   "source": [
    "# Let's reshape this array, such that it has 2 rows \n",
    "# and 4 colums \n",
    "b = a.reshape(2,4)\n",
    "print_attributes(b)"
   ]
  },
  {
   "cell_type": "markdown",
   "metadata": {},
   "source": [
    "The new array is still represented in the memory as a contiguous memory location, each element occupying 4 bytes (dtype=int32). In order to jump from one element to the next along the first axis (e.g. going from element 0 to element 4), we need to jump in the memory 4 element (0 $\\to$ 1 $\\to$ 2 $\\to$ 3 $\\to$ 4) or 4x4 bytes. On the other hand, if we want to go to the next element along the second axis (e.g. 0 $\\to$ 1) we only need to jump 4 bytes. This information is stored in the 'Strides' attribute.  \n",
    "\n",
    "From the flags, we see that array `b` does not own its own memory space, so it just point to the same memory location as `a`. Let's see what hapens if we change `a`."
   ]
  },
  {
   "cell_type": "code",
   "execution_count": 6,
   "metadata": {},
   "outputs": [
    {
     "name": "stdout",
     "output_type": "stream",
     "text": [
      "[10  1  2  3  4  5  6  7]\n",
      "[[10  1  2  3]\n",
      " [ 4  5  6  7]]\n"
     ]
    }
   ],
   "source": [
    "a[0] = 10\n",
    "print(a)\n",
    "print(b)"
   ]
  },
  {
   "cell_type": "markdown",
   "metadata": {},
   "source": [
    "As expected, both `a[0]` and `b[0]` point to the same memory location, which is changed when executing `a[0] = 10`. Therefore, `b[0]` now points to the changed value, 10."
   ]
  },
  {
   "cell_type": "markdown",
   "metadata": {},
   "source": [
    "As we see the data from `b` is stored in the memory in a C-style (column-first) contiguous segment. What about the transpose of `b`?"
   ]
  },
  {
   "cell_type": "code",
   "execution_count": 7,
   "metadata": {},
   "outputs": [
    {
     "name": "stdout",
     "output_type": "stream",
     "text": [
      "Array: \n",
      "[[10  4]\n",
      " [ 1  5]\n",
      " [ 2  6]\n",
      " [ 3  7]] \n",
      "\n",
      "Number of elements:  8\n",
      "Number of dimensions:  2\n",
      "Shape:  (4, 2)\n",
      "Data type: int64\n",
      "Strides:  (8, 32)\n",
      "Flags:\n",
      "  C_CONTIGUOUS : False\n",
      "  F_CONTIGUOUS : True\n",
      "  OWNDATA : False\n",
      "  WRITEABLE : True\n",
      "  ALIGNED : True\n",
      "  WRITEBACKIFCOPY : False\n",
      "  UPDATEIFCOPY : False\n"
     ]
    }
   ],
   "source": [
    "print_attributes(b.T)"
   ]
  },
  {
   "cell_type": "markdown",
   "metadata": {},
   "source": [
    "As expected, since `b` and `b.T` arrays refer to the same memory location and `b` is stored in a column-first fashion, `b.T` is stored in a row-first style (Fortran-style)."
   ]
  },
  {
   "cell_type": "code",
   "execution_count": 8,
   "metadata": {},
   "outputs": [
    {
     "name": "stdout",
     "output_type": "stream",
     "text": [
      "Array: \n",
      "[[[10  1]\n",
      "  [ 2  3]]\n",
      "\n",
      " [[ 4  5]\n",
      "  [ 6  7]]] \n",
      "\n",
      "Number of elements:  8\n",
      "Number of dimensions:  3\n",
      "Shape:  (2, 2, 2)\n",
      "Data type: int64\n",
      "Strides:  (32, 16, 8)\n",
      "Flags:\n",
      "  C_CONTIGUOUS : True\n",
      "  F_CONTIGUOUS : False\n",
      "  OWNDATA : False\n",
      "  WRITEABLE : True\n",
      "  ALIGNED : True\n",
      "  WRITEBACKIFCOPY : False\n",
      "  UPDATEIFCOPY : False\n"
     ]
    }
   ],
   "source": [
    "# Let's reshape again the array\n",
    "c = a.reshape(2,2,2)\n",
    "print_attributes(c)"
   ]
  },
  {
   "cell_type": "markdown",
   "metadata": {},
   "source": [
    "Now, to jump to the next element of `c` along axis 2 (e.g. 10 $\\to$ 1) we need to jump in the memory 4 bytes; in order to jump to the next element along axis 1 (e.g. 10 $\\to$ 2) we need to jump 2x4 bytes; and to jump to the next element along axis 0 (e.g. 10 $\\to$ 4) we need to jump in the memory 4x4 bytes. Therefore the strides attribute for the new array is (16, 8, 4)."
   ]
  },
  {
   "cell_type": "markdown",
   "metadata": {},
   "source": [
    "What hapens when we slice an object?"
   ]
  },
  {
   "cell_type": "code",
   "execution_count": 9,
   "metadata": {},
   "outputs": [
    {
     "name": "stdout",
     "output_type": "stream",
     "text": [
      "Array: \n",
      "[10  2  4  6] \n",
      "\n",
      "Number of elements:  4\n",
      "Number of dimensions:  1\n",
      "Shape:  (4,)\n",
      "Data type: int64\n",
      "Strides:  (16,)\n",
      "Flags:\n",
      "  C_CONTIGUOUS : False\n",
      "  F_CONTIGUOUS : False\n",
      "  OWNDATA : False\n",
      "  WRITEABLE : True\n",
      "  ALIGNED : True\n",
      "  WRITEBACKIFCOPY : False\n",
      "  UPDATEIFCOPY : False\n"
     ]
    }
   ],
   "source": [
    "# Let's consider the alternative elements (a[0], a[2], a[4], etc.)\n",
    "print_attributes(a[::2])"
   ]
  },
  {
   "cell_type": "markdown",
   "metadata": {},
   "source": [
    "Although this points to the same memory location as a, now its elements are not contiguous in the memory, as we need to jump one element of `a` in order to get to the next element in this slice. Therefore, the stride changed from 4 bytes to 8 bytes. We observe that now these elements are neighter C_CONTIGUOUS nor F_CONTIGUOUS."
   ]
  },
  {
   "cell_type": "markdown",
   "metadata": {},
   "source": [
    "What if we want to view each byte of memory separately?"
   ]
  },
  {
   "cell_type": "code",
   "execution_count": 10,
   "metadata": {},
   "outputs": [
    {
     "name": "stdout",
     "output_type": "stream",
     "text": [
      "[0 1 2]\n",
      "[0 0 0 0 1 0 0 0 2 0 0 0]\n"
     ]
    }
   ],
   "source": [
    "d = np.array([0, 1, 2], dtype=np.int32)\n",
    "d_bytes = d.view(dtype=np.uint8)\n",
    "print(d)\n",
    "print(d_bytes)"
   ]
  },
  {
   "cell_type": "markdown",
   "metadata": {},
   "source": [
    "The number 0 (int32) is stored in memory as the following 4 bytes: [0,0,0,0].  \n",
    "The number 1 (int32) is stored in memory as the following 4 bytes: [1,0,0,0].  \n",
    "The number 2 (int32) is stored in memory as the following 4 bytes: [2,0,0,0].  \n",
    "As we can see from here, the least-significant byte is stored first (called little endian system)."
   ]
  },
  {
   "cell_type": "code",
   "execution_count": 11,
   "metadata": {},
   "outputs": [
    {
     "name": "stdout",
     "output_type": "stream",
     "text": [
      "[256   1   2]\n",
      "[0 1 0 0 1 0 0 0 2 0 0 0]\n"
     ]
    }
   ],
   "source": [
    "# Let's modify the second byte\n",
    "d_bytes[1] = 1\n",
    "print(d)\n",
    "print(d_bytes)"
   ]
  },
  {
   "cell_type": "markdown",
   "metadata": {},
   "source": [
    "Since we changed the second byte to 1, the bit number 9 changed to 1, so the first element of `d` became the binary number `100000000` or $2^8=256$."
   ]
  },
  {
   "cell_type": "markdown",
   "metadata": {},
   "source": [
    "To get an independent array that we can change without modifying the original array, we need to use the `copy()` method:"
   ]
  },
  {
   "cell_type": "code",
   "execution_count": 12,
   "metadata": {},
   "outputs": [
    {
     "name": "stdout",
     "output_type": "stream",
     "text": [
      "[256   1   2]\n",
      "[0 1 0 0 1 0 0 0 2 0 0 0]\n"
     ]
    }
   ],
   "source": [
    "d_copy_bytes = d.copy().view(dtype=np.uint8)\n",
    "print(d)\n",
    "print(d_copy_bytes)"
   ]
  },
  {
   "cell_type": "code",
   "execution_count": 13,
   "metadata": {},
   "outputs": [
    {
     "name": "stdout",
     "output_type": "stream",
     "text": [
      "[256   1   2]\n",
      "[0 0 0 0 1 0 0 0 2 0 0 0]\n"
     ]
    }
   ],
   "source": [
    "# Now if we modify d_copy_bytes, this will not affect the original array d\n",
    "# as these point to different locations in the memory\n",
    "d_copy_bytes[1] = 0\n",
    "print(d)\n",
    "print(d_copy_bytes)"
   ]
  },
  {
   "cell_type": "code",
   "execution_count": 14,
   "metadata": {},
   "outputs": [
    {
     "name": "stdout",
     "output_type": "stream",
     "text": [
      "4590098512\n",
      "4590100272\n"
     ]
    }
   ],
   "source": [
    "# Print the identify of these 2 objects\n",
    "print(id(d))\n",
    "print(id(d_copy_bytes))"
   ]
  },
  {
   "cell_type": "code",
   "execution_count": null,
   "metadata": {},
   "outputs": [],
   "source": []
  }
 ],
 "metadata": {
  "kernelspec": {
   "display_name": "Python 3",
   "language": "python",
   "name": "python3"
  },
  "language_info": {
   "codemirror_mode": {
    "name": "ipython",
    "version": 3
   },
   "file_extension": ".py",
   "mimetype": "text/x-python",
   "name": "python",
   "nbconvert_exporter": "python",
   "pygments_lexer": "ipython3",
   "version": "3.7.3"
  }
 },
 "nbformat": 4,
 "nbformat_minor": 2
}
