{
 "cells": [
  {
   "cell_type": "markdown",
   "metadata": {},
   "source": [
    "# Functions"
   ]
  },
  {
   "cell_type": "code",
   "execution_count": 1,
   "metadata": {},
   "outputs": [
    {
     "name": "stdout",
     "output_type": "stream",
     "text": [
      "Inside x:  11\n",
      "Outside x:  1\n"
     ]
    }
   ],
   "source": [
    "# Case 1: integer arguments\n",
    "def update(x):\n",
    "    # Change the value of x\n",
    "    x += 10\n",
    "    print(\"Inside x: \", x)\n",
    "    \n",
    "# Create a variable x, outside of the function\n",
    "x = 1\n",
    "\n",
    "# Update its value\n",
    "update(x)\n",
    "print(\"Outside x: \", x)"
   ]
  },
  {
   "cell_type": "markdown",
   "metadata": {},
   "source": [
    "So, the variable `x` remained 1 outside the function, therefore the \"inside\" and \"outside\" `x` refer to different objects.  \n",
    "Let's also print the id of both variables."
   ]
  },
  {
   "cell_type": "code",
   "execution_count": 2,
   "metadata": {},
   "outputs": [
    {
     "name": "stdout",
     "output_type": "stream",
     "text": [
      "Inside x:  11\n",
      "Id(inside x):  4452062944\n",
      " \n",
      "Outside x:  1\n",
      "Id(outside x):  4452062624\n"
     ]
    }
   ],
   "source": [
    "def update2(x):\n",
    "    # Change the value of x\n",
    "    x += 10\n",
    "    print(\"Inside x: \", x)\n",
    "    print(\"Id(inside x): \", id(x))\n",
    "    print(' ')\n",
    "    \n",
    "# Create a variable x, outside of the function\n",
    "x = 1\n",
    "\n",
    "# Update its value\n",
    "update2(x)\n",
    "print(\"Outside x: \", x)\n",
    "print(\"Id(outside x): \", id(x))"
   ]
  },
  {
   "cell_type": "markdown",
   "metadata": {},
   "source": [
    "We can see that the \"inside\" and \"outside\" `x` refer to different objects."
   ]
  },
  {
   "cell_type": "markdown",
   "metadata": {},
   "source": [
    "What's interesting is that before changing the value, both \"inside\" and \"outside\" `x` referred to the same object..."
   ]
  },
  {
   "cell_type": "code",
   "execution_count": 3,
   "metadata": {},
   "outputs": [
    {
     "name": "stdout",
     "output_type": "stream",
     "text": [
      "Id(inside x; before update):  4452062624\n",
      "Inside x:  11\n",
      "Id(inside x; after update):  4452062944\n",
      " \n",
      "Outside x:  1\n",
      "Id(outside x):  4452062624\n"
     ]
    }
   ],
   "source": [
    "def update3(x):\n",
    "    # Change the value of x\n",
    "    print(\"Id(inside x; before update): \", id(x))\n",
    "    x += 10\n",
    "    print(\"Inside x: \", x)\n",
    "    print(\"Id(inside x; after update): \", id(x))\n",
    "    print(' ')\n",
    "    \n",
    "# Create a variable x, outside of the function\n",
    "x = 1\n",
    "\n",
    "# Update its value\n",
    "update3(x)\n",
    "print(\"Outside x: \", x)\n",
    "print(\"Id(outside x): \", id(x))"
   ]
  },
  {
   "cell_type": "markdown",
   "metadata": {},
   "source": [
    "What about passing list arguments? Let's see."
   ]
  },
  {
   "cell_type": "code",
   "execution_count": 4,
   "metadata": {},
   "outputs": [
    {
     "name": "stdout",
     "output_type": "stream",
     "text": [
      "Id(inside x; before update):  4501301320\n",
      "Inside x:  [11, 2, 3]\n",
      "Id(inside x; after update):  4501301320\n",
      " \n",
      "Outside x:  [11, 2, 3]\n",
      "Id(outside x):  4501301320\n"
     ]
    }
   ],
   "source": [
    "# Case 2: list arguments\n",
    "def update4(x):\n",
    "    # Change the value of x[0]\n",
    "    print(\"Id(inside x; before update): \", id(x))\n",
    "    x[0] += 10\n",
    "    print(\"Inside x: \", x)\n",
    "    print(\"Id(inside x; after update): \", id(x))\n",
    "    print(' ')\n",
    "    \n",
    "# Create a variable x, outside of the function\n",
    "x = [1,2,3]\n",
    "\n",
    "# Update its value\n",
    "update4(x)\n",
    "print(\"Outside x: \", x)\n",
    "print(\"Id(outside x): \", id(x))"
   ]
  },
  {
   "cell_type": "markdown",
   "metadata": {},
   "source": [
    "In this case, since the list is a mutable object, the function acts on the original object `x` and modifies its value.  \n",
    "The same thing happens if we pass a dictionary to the function."
   ]
  },
  {
   "cell_type": "code",
   "execution_count": 5,
   "metadata": {},
   "outputs": [
    {
     "name": "stdout",
     "output_type": "stream",
     "text": [
      "Id(inside x; before update):  4501329312\n",
      "Inside x:  {'1': 'one', '2': 'two', 'new_key': 'new_value'}\n",
      "Id(inside x; after update):  4501329312\n",
      " \n",
      "Outside x:  {'1': 'one', '2': 'two', 'new_key': 'new_value'}\n",
      "Id(outside x):  4501329312\n"
     ]
    }
   ],
   "source": [
    "# Case 3: dictionary arguments\n",
    "def update5(x):\n",
    "    # Add a key:value pair to the dictionary\n",
    "    print(\"Id(inside x; before update): \", id(x))\n",
    "    x['new_key'] = 'new_value'\n",
    "    print(\"Inside x: \", x)\n",
    "    print(\"Id(inside x; after update): \", id(x))\n",
    "    print(' ')\n",
    "    \n",
    "# Create a dictionary x, outside of the function\n",
    "x = {'1':'one', '2':'two'}\n",
    "\n",
    "# Update its value\n",
    "update5(x)\n",
    "print(\"Outside x: \", x)\n",
    "print(\"Id(outside x): \", id(x))"
   ]
  },
  {
   "cell_type": "markdown",
   "metadata": {},
   "source": [
    "What about tuples?"
   ]
  },
  {
   "cell_type": "code",
   "execution_count": 6,
   "metadata": {},
   "outputs": [
    {
     "name": "stdout",
     "output_type": "stream",
     "text": [
      "Id(inside x; before update):  4499770056\n",
      "Inside x:  (3, 4)\n",
      "Id(inside x; after update):  4500037256\n",
      " \n",
      "Outside x:  (1, 2)\n",
      "Id(outside x):  4499770056\n"
     ]
    }
   ],
   "source": [
    "# Case 4: tuple arguments\n",
    "def update6(x):\n",
    "    # Change the value of x\n",
    "    print(\"Id(inside x; before update): \", id(x))\n",
    "    x = (3,4)\n",
    "    print(\"Inside x: \", x)\n",
    "    print(\"Id(inside x; after update): \", id(x))\n",
    "    print(' ')\n",
    "    \n",
    "# Create a variable x, outside of the function\n",
    "x = (1,2)\n",
    "\n",
    "# Update its value\n",
    "update6(x)\n",
    "print(\"Outside x: \", x)\n",
    "print(\"Id(outside x): \", id(x))"
   ]
  },
  {
   "cell_type": "markdown",
   "metadata": {},
   "source": [
    "As in the case of integers, when `x` has an immutable type (int, float, complex, string, tuple), then the function cannot change its value, and a new `x` is created inside the function, and the \"outside\" `x` remains unchanged. On the other hand, when `x` has a mutable type (list, dict, set), then the function is able to change the contents of the original object."
   ]
  },
  {
   "cell_type": "code",
   "execution_count": null,
   "metadata": {},
   "outputs": [],
   "source": []
  }
 ],
 "metadata": {
  "kernelspec": {
   "display_name": "Python 3",
   "language": "python",
   "name": "python3"
  },
  "language_info": {
   "codemirror_mode": {
    "name": "ipython",
    "version": 3
   },
   "file_extension": ".py",
   "mimetype": "text/x-python",
   "name": "python",
   "nbconvert_exporter": "python",
   "pygments_lexer": "ipython3",
   "version": "3.7.3"
  }
 },
 "nbformat": 4,
 "nbformat_minor": 2
}
