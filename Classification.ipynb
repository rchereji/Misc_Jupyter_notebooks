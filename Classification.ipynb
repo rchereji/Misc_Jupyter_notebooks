{
 "cells": [
  {
   "cell_type": "markdown",
   "metadata": {},
   "source": [
    "# Classification"
   ]
  },
  {
   "cell_type": "code",
   "execution_count": 1,
   "metadata": {},
   "outputs": [
    {
     "data": {
      "text/plain": [
       "dict_keys(['data', 'target', 'target_names', 'DESCR', 'feature_names', 'filename'])"
      ]
     },
     "execution_count": 1,
     "metadata": {},
     "output_type": "execute_result"
    }
   ],
   "source": [
    "import numpy as np\n",
    "from sklearn import datasets\n",
    "\n",
    "# Load a dataset\n",
    "iris = datasets.load_iris()\n",
    "iris.keys()"
   ]
  },
  {
   "cell_type": "code",
   "execution_count": 2,
   "metadata": {},
   "outputs": [
    {
     "data": {
      "text/plain": [
       "array([[5.1, 3.5, 1.4, 0.2],\n",
       "       [4.9, 3. , 1.4, 0.2],\n",
       "       [4.7, 3.2, 1.3, 0.2],\n",
       "       [4.6, 3.1, 1.5, 0.2],\n",
       "       [5. , 3.6, 1.4, 0.2]])"
      ]
     },
     "execution_count": 2,
     "metadata": {},
     "output_type": "execute_result"
    }
   ],
   "source": [
    "iris['data'][:5,]"
   ]
  },
  {
   "cell_type": "code",
   "execution_count": 3,
   "metadata": {},
   "outputs": [
    {
     "data": {
      "text/plain": [
       "['sepal length (cm)',\n",
       " 'sepal width (cm)',\n",
       " 'petal length (cm)',\n",
       " 'petal width (cm)']"
      ]
     },
     "execution_count": 3,
     "metadata": {},
     "output_type": "execute_result"
    }
   ],
   "source": [
    "iris['feature_names']"
   ]
  },
  {
   "cell_type": "code",
   "execution_count": 4,
   "metadata": {},
   "outputs": [
    {
     "data": {
      "text/plain": [
       "array([0, 0, 0, 0, 0])"
      ]
     },
     "execution_count": 4,
     "metadata": {},
     "output_type": "execute_result"
    }
   ],
   "source": [
    "iris['target'][:5]"
   ]
  },
  {
   "cell_type": "code",
   "execution_count": 5,
   "metadata": {},
   "outputs": [
    {
     "data": {
      "text/plain": [
       "array(['setosa', 'versicolor', 'virginica'], dtype='<U10')"
      ]
     },
     "execution_count": 5,
     "metadata": {},
     "output_type": "execute_result"
    }
   ],
   "source": [
    "iris['target_names']"
   ]
  },
  {
   "cell_type": "markdown",
   "metadata": {},
   "source": [
    "### Logistic regression\n",
    "Let's try to classify the Iris dataset using a logistic regression model."
   ]
  },
  {
   "cell_type": "code",
   "execution_count": 6,
   "metadata": {},
   "outputs": [],
   "source": [
    "# First let's create a feature vector and a target\n",
    "X = iris['data'][:, 3:] # Use only the last feature, the petal width\n",
    "y = (iris['target'] == 2).astype(int)\n",
    "\n",
    "# Split the data into train/test sets\n",
    "from sklearn.model_selection import train_test_split\n",
    "X_train, X_test, y_train, y_test = \\\n",
    "        train_test_split(X, y, test_size=0.3, random_state=101)\n",
    "\n",
    "# Fit a logistic model\n",
    "from sklearn.linear_model import LogisticRegression\n",
    "\n",
    "model = LogisticRegression(solver='lbfgs').fit(X_train, y_train)"
   ]
  },
  {
   "cell_type": "code",
   "execution_count": 7,
   "metadata": {},
   "outputs": [
    {
     "data": {
      "image/png": "[encoded data removed]",
      "text/plain": [
       "<Figure size 432x288 with 1 Axes>"
      ]
     },
     "metadata": {
      "needs_background": "light"
     },
     "output_type": "display_data"
    }
   ],
   "source": [
    "# Plot the probability of each class\n",
    "X_tmp = np.linspace(0,3,100).reshape(100,1)\n",
    "y_prob = model.predict_proba(X_tmp)\n",
    "\n",
    "import matplotlib.pyplot as plt\n",
    "%matplotlib inline\n",
    "\n",
    "plt.plot(X_tmp, y_prob[:,1], 'r-', label='Virginica')\n",
    "plt.plot(X_tmp, y_prob[:,0], 'b-', label='Not Virginica')\n",
    "plt.xlabel('Petal width (cm)')\n",
    "plt.ylabel('Probability')\n",
    "plt.legend();"
   ]
  },
  {
   "cell_type": "code",
   "execution_count": 8,
   "metadata": {},
   "outputs": [
    {
     "name": "stdout",
     "output_type": "stream",
     "text": [
      "Accuracy:\n",
      "0.9333333333333333\n",
      "\n",
      "Confusion matrix:\n",
      "[[32  1]\n",
      " [ 2 10]]\n"
     ]
    }
   ],
   "source": [
    "# Check prediction accuracy\n",
    "y_pred = model.predict(X_test)\n",
    "\n",
    "from sklearn.metrics import accuracy_score, confusion_matrix\n",
    "print('Accuracy:')\n",
    "print(accuracy_score(y_test, y_pred))\n",
    "\n",
    "print('\\nConfusion matrix:')\n",
    "print(confusion_matrix(y_test, y_pred))"
   ]
  },
  {
   "cell_type": "markdown",
   "metadata": {},
   "source": [
    "# Multiclass classification"
   ]
  },
  {
   "cell_type": "code",
   "execution_count": 9,
   "metadata": {},
   "outputs": [],
   "source": [
    "X = iris['data']\n",
    "y = iris['target']\n",
    "\n",
    "# Split the data into train/test sets\n",
    "X_train, X_test, y_train, y_test = \\\n",
    "        train_test_split(X, y, test_size=0.3, random_state=101)\n",
    "\n",
    "model = LogisticRegression(multi_class='multinomial', \n",
    "                           solver='newton-cg').fit(X_train, y_train)"
   ]
  },
  {
   "cell_type": "code",
   "execution_count": 10,
   "metadata": {},
   "outputs": [
    {
     "name": "stdout",
     "output_type": "stream",
     "text": [
      "Accuracy:\n",
      "0.9777777777777777\n",
      "\n",
      "Confusion matrix:\n",
      "[[13  0  0]\n",
      " [ 0 19  1]\n",
      " [ 0  0 12]]\n"
     ]
    }
   ],
   "source": [
    "# Check prediction accuracy\n",
    "y_pred = model.predict(X_test)\n",
    "\n",
    "print('Accuracy:')\n",
    "print(accuracy_score(y_test, y_pred))\n",
    "\n",
    "print('\\nConfusion matrix:')\n",
    "print(confusion_matrix(y_test, y_pred))"
   ]
  },
  {
   "cell_type": "code",
   "execution_count": 11,
   "metadata": {},
   "outputs": [
    {
     "name": "stdout",
     "output_type": "stream",
     "text": [
      "Accuracy:\n",
      "0.9333333333333333\n",
      "\n",
      "Confusion matrix:\n",
      "[[12  1  0]\n",
      " [ 0 18  2]\n",
      " [ 0  0 12]]\n"
     ]
    }
   ],
   "source": [
    "# Use SGDClassifier\n",
    "from sklearn.linear_model import SGDClassifier\n",
    "\n",
    "# Fit model\n",
    "model = SGDClassifier(random_state=7,\n",
    "                      max_iter=100, \n",
    "                      tol=1e-2).fit(X_train, y_train)\n",
    "\n",
    "# Check prediction accuracy\n",
    "y_pred = model.predict(X_test)\n",
    "\n",
    "print('Accuracy:')\n",
    "print(accuracy_score(y_test, y_pred))\n",
    "\n",
    "print('\\nConfusion matrix:')\n",
    "print(confusion_matrix(y_test, y_pred))"
   ]
  },
  {
   "cell_type": "code",
   "execution_count": 12,
   "metadata": {},
   "outputs": [
    {
     "name": "stdout",
     "output_type": "stream",
     "text": [
      "Accuracy:\n",
      "0.9333333333333333\n",
      "\n",
      "Confusion matrix:\n",
      "[[13  0  0]\n",
      " [ 0 19  1]\n",
      " [ 0  2 10]]\n"
     ]
    }
   ],
   "source": [
    "# Use DecisionTreeClassifier\n",
    "from sklearn.tree import DecisionTreeClassifier\n",
    "\n",
    "# Fit model\n",
    "model = DecisionTreeClassifier(max_depth=2).fit(X_train, y_train)\n",
    "\n",
    "# Check prediction accuracy\n",
    "y_pred = model.predict(X_test)\n",
    "\n",
    "print('Accuracy:')\n",
    "print(accuracy_score(y_test, y_pred))\n",
    "\n",
    "print('\\nConfusion matrix:')\n",
    "print(confusion_matrix(y_test, y_pred))"
   ]
  },
  {
   "cell_type": "code",
   "execution_count": 13,
   "metadata": {},
   "outputs": [
    {
     "name": "stdout",
     "output_type": "stream",
     "text": [
      "Accuracy:\n",
      "0.9777777777777777\n",
      "\n",
      "Confusion matrix:\n",
      "[[13  0  0]\n",
      " [ 0 19  1]\n",
      " [ 0  0 12]]\n"
     ]
    }
   ],
   "source": [
    "# Use RandomForestClassifier\n",
    "from sklearn.ensemble import RandomForestClassifier\n",
    "\n",
    "# Fit model\n",
    "model = RandomForestClassifier(random_state=7,\n",
    "                               n_estimators=100).fit(X_train, y_train)\n",
    "\n",
    "# Check prediction accuracy\n",
    "y_pred = model.predict(X_test)\n",
    "\n",
    "print('Accuracy:')\n",
    "print(accuracy_score(y_test, y_pred))\n",
    "\n",
    "print('\\nConfusion matrix:')\n",
    "print(confusion_matrix(y_test, y_pred))"
   ]
  },
  {
   "cell_type": "code",
   "execution_count": 14,
   "metadata": {},
   "outputs": [
    {
     "name": "stdout",
     "output_type": "stream",
     "text": [
      "Accuracy:\n",
      "1.0\n",
      "\n",
      "Confusion matrix:\n",
      "[[13  0  0]\n",
      " [ 0 20  0]\n",
      " [ 0  0 12]]\n"
     ]
    }
   ],
   "source": [
    "# Use KNeighborsClassifier\n",
    "from sklearn.neighbors import KNeighborsClassifier\n",
    "\n",
    "# Fit model\n",
    "model = KNeighborsClassifier(n_neighbors=10).fit(X_train, y_train)\n",
    "\n",
    "# Check prediction accuracy\n",
    "y_pred = model.predict(X_test)\n",
    "\n",
    "print('Accuracy:')\n",
    "print(accuracy_score(y_test, y_pred))\n",
    "\n",
    "print('\\nConfusion matrix:')\n",
    "print(confusion_matrix(y_test, y_pred))"
   ]
  },
  {
   "cell_type": "markdown",
   "metadata": {},
   "source": [
    "### Effect of training set size"
   ]
  },
  {
   "cell_type": "code",
   "execution_count": 15,
   "metadata": {},
   "outputs": [
    {
     "data": {
      "image/png": "[encoded data removed]",
      "text/plain": [
       "<Figure size 432x288 with 1 Axes>"
      ]
     },
     "metadata": {
      "needs_background": "light"
     },
     "output_type": "display_data"
    }
   ],
   "source": [
    "from sklearn.model_selection import learning_curve\n",
    "\n",
    "# Create cross-validation training and test scores for different training set sizes\n",
    "train_sizes, train_scores, test_scores = \\\n",
    "    learning_curve(KNeighborsClassifier(n_neighbors=5),\n",
    "                   X, y, cv=10,\n",
    "                   scoring='accuracy',\n",
    "                   n_jobs=-1, #use all CPUs\n",
    "                   train_sizes=np.linspace(0.05, 1, 50))\n",
    "\n",
    "# Compute mean and std of the training/test set scores\n",
    "train_mean = np.mean(train_scores, axis=1)\n",
    "train_std = np.std(train_scores, axis=1)\n",
    "\n",
    "test_mean = np.mean(test_scores, axis=1)\n",
    "test_std = np.std(test_scores, axis=1)\n",
    "\n",
    "# Plot the learning curve\n",
    "plt.plot(train_sizes, train_mean, 'b--', label='Training score')\n",
    "plt.plot(train_sizes, test_mean, 'r', label='Test score')\n",
    "\n",
    "plt.fill_between(train_sizes,\n",
    "                 train_mean-train_std,\n",
    "                 train_mean+train_std,\n",
    "                 color=[.9, .9, 1])\n",
    "\n",
    "plt.fill_between(train_sizes,\n",
    "                 test_mean-test_std,\n",
    "                 test_mean+test_std,\n",
    "                 color=[1, .9, .9])\n",
    "\n",
    "plt.legend();"
   ]
  },
  {
   "cell_type": "code",
   "execution_count": null,
   "metadata": {},
   "outputs": [],
   "source": []
  }
 ],
 "metadata": {
  "kernelspec": {
   "display_name": "Python 3",
   "language": "python",
   "name": "python3"
  },
  "language_info": {
   "codemirror_mode": {
    "name": "ipython",
    "version": 3
   },
   "file_extension": ".py",
   "mimetype": "text/x-python",
   "name": "python",
   "nbconvert_exporter": "python",
   "pygments_lexer": "ipython3",
   "version": "3.7.3"
  }
 },
 "nbformat": 4,
 "nbformat_minor": 2
}
